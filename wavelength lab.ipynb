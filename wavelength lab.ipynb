{
 "cells": [
  {
   "cell_type": "code",
   "execution_count": 6,
   "metadata": {},
   "outputs": [
    {
     "name": "stdout",
     "output_type": "stream",
     "text": [
      "wave average =  7.349363674888147e-07\n",
      "error in wavelength =  2.7337694821710452e-08\n",
      "D =  0.08199999999999999\n",
      "error in D 0.001\n",
      "d =  2e-06\n"
     ]
    }
   ],
   "source": [
    "import math\n",
    "import numpy as np\n",
    "\n",
    "\n",
    "h2 = ((8.4/100)+(8.3/100))/2\n",
    "err_h = (0.1/100)\n",
    "h1 = ((3.4/100)+(3.3/100))/2\n",
    "\n",
    "d = (((1/(500))/1000))\n",
    "\n",
    "D = (8.2/100)\n",
    "err_D = (0.1/100)\n",
    "\n",
    "theta = np.arctan(h1/D)\n",
    "sin_theta = np.sin(theta)\n",
    "\n",
    "wave = (d * sin_theta)/1\n",
    "\n",
    "\n",
    "\n",
    "theta2 = np.arctan(h2/D)\n",
    "sin_theta2 = np.sin(theta2)\n",
    "\n",
    "wave2 = (d * sin_theta2)/2\n",
    "\n",
    "\n",
    "\n",
    "err_theta = np.arctan((h1 + err_h)/(D - err_D)) - theta\n",
    "\n",
    "\n",
    "err_wave = (d/1)*np.sin(theta + err_theta) - wave\n",
    "wave_avg = (wave + wave2)/2\n",
    "\n",
    "print('wave average = ',wave_avg)\n",
    "\n",
    "print('error in wavelength = ',err_wave)\n",
    "\n",
    "print('D = ',D)\n",
    "print('error in D',err_D)\n",
    "\n",
    "print('d = ',d)\n"
   ]
  },
  {
   "cell_type": "code",
   "execution_count": null,
   "metadata": {},
   "outputs": [],
   "source": []
  }
 ],
 "metadata": {
  "kernelspec": {
   "display_name": "Python 3",
   "language": "python",
   "name": "python3"
  },
  "language_info": {
   "codemirror_mode": {
    "name": "ipython",
    "version": 3
   },
   "file_extension": ".py",
   "mimetype": "text/x-python",
   "name": "python",
   "nbconvert_exporter": "python",
   "pygments_lexer": "ipython3",
   "version": "3.8.3"
  }
 },
 "nbformat": 4,
 "nbformat_minor": 4
}
